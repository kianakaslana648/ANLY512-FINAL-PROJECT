{
 "cells": [
  {
   "cell_type": "code",
   "execution_count": 47,
   "metadata": {},
   "outputs": [],
   "source": [
    "import numpy as np\n",
    "import numpy.random as rd\n",
    "import pandas as pd\n",
    "import matplotlib.pyplot as plt\n",
    "from sklearn.linear_model import LogisticRegression\n",
    "from sklearn.metrics import roc_curve\n",
    "import tensorflow as tf\n",
    "from tensorflow import keras\n",
    "from tensorflow.keras import layers\n",
    "from keras.models import Model\n",
    "from sklearn.covariance import GraphicalLassoCV\n",
    "import numpy.linalg as la"
   ]
  },
  {
   "cell_type": "code",
   "execution_count": 4,
   "metadata": {},
   "outputs": [],
   "source": [
    "pX = pd.read_csv('prostate/prostate.csv')\n",
    "pY = pX.iloc[:,-1]\n",
    "pX = np.array(pX.iloc[:,1:6034])"
   ]
  },
  {
   "cell_type": "code",
   "execution_count": 5,
   "metadata": {},
   "outputs": [],
   "source": [
    "shuf = np.arange(pX.shape[0])\n",
    "rd.shuffle(shuf)"
   ]
  },
  {
   "cell_type": "code",
   "execution_count": 6,
   "metadata": {},
   "outputs": [],
   "source": [
    "start = [0, 20, 40, 60, 80]\n",
    "end = [20, 40, 60, 80, 102]"
   ]
  },
  {
   "cell_type": "code",
   "execution_count": 7,
   "metadata": {},
   "outputs": [],
   "source": [
    "def chatterjee(x,y):\n",
    "    n=len(x)\n",
    "    df=pd.DataFrame({'X':x,'Y':y})\n",
    "    df['rank_x']=df['X'].rank()\n",
    "    df['rank_y']=df['Y'].rank()\n",
    "    df=df.sort_values(by='rank_x')\n",
    "    sum_term1=df['rank_y'].diff().abs().sum()\n",
    "    sum_term2=((df['rank_y']-1)*(n+1-df['rank_y'])).sum()\n",
    "    #return 1-(n*sum_term1)/(2*sum_term2)\n",
    "    return (1-3*sum_term1/(pow(n,2)-1))"
   ]
  },
  {
   "cell_type": "code",
   "execution_count": 8,
   "metadata": {},
   "outputs": [],
   "source": [
    "cor=np.zeros(6033)\n",
    "for i in range(6033):\n",
    "    temp_x=pX[:,i]\n",
    "    cor[i]=chatterjee(temp_x,pY)\n",
    "index = np.argsort(-cor)"
   ]
  },
  {
   "cell_type": "code",
   "execution_count": 9,
   "metadata": {},
   "outputs": [],
   "source": [
    "n_feature = 20\n",
    "pX_rem = pX[:,index[0:n_feature]]"
   ]
  },
  {
   "cell_type": "markdown",
   "metadata": {},
   "source": [
    "### Logistic Regression"
   ]
  },
  {
   "cell_type": "code",
   "execution_count": 35,
   "metadata": {},
   "outputs": [
    {
     "data": {
      "text/plain": [
       "Text(0.5, 1.0, 'ROC Curve of Logistic Regression(Significant Variable Included)')"
      ]
     },
     "execution_count": 35,
     "metadata": {},
     "output_type": "execute_result"
    },
    {
     "data": {
      "image/png": "[encoded data removed]",
      "text/plain": [
       "<Figure size 432x288 with 1 Axes>"
      ]
     },
     "metadata": {
      "needs_background": "light"
     },
     "output_type": "display_data"
    }
   ],
   "source": [
    "prob = np.zeros(pY.shape[0])\n",
    "for i in range(5):\n",
    "    test_X = pX_rem[shuf[start[i]:end[i]],:]\n",
    "    test_Y = pY[shuf[start[i]:end[i]]]\n",
    "    train_ind = np.setdiff1d(np.arange(pX.shape[0]),shuf[start[i]:end[i]])\n",
    "    train_X = pX_rem[train_ind,:]\n",
    "    train_Y = pY[train_ind]\n",
    "    \n",
    "    model = LogisticRegression(solver='liblinear')\n",
    "    model.fit(train_X, train_Y)\n",
    "    \n",
    "    proba_res = model.predict_proba(test_X)\n",
    "    prob[shuf[start[i]:end[i]]] = proba_res[:,1] - proba_res[:,0]\n",
    "\n",
    "fpr1, tpr1, thresholds = roc_curve(pY, prob, pos_label = 1)\n",
    "plt.plot(fpr1, tpr1)\n",
    "plt.xlabel('FPR')\n",
    "plt.ylabel('TPR')\n",
    "plt.title('ROC Curve of Logistic Regression(Significant Variable Included)')"
   ]
  },
  {
   "cell_type": "markdown",
   "metadata": {},
   "source": [
    "### L1-Penalized Logistic Regression"
   ]
  },
  {
   "cell_type": "code",
   "execution_count": 36,
   "metadata": {},
   "outputs": [
    {
     "data": {
      "text/plain": [
       "Text(0.5, 1.0, 'ROC Curve of Logistic Regression(Significant Variable Included)')"
      ]
     },
     "execution_count": 36,
     "metadata": {},
     "output_type": "execute_result"
    },
    {
     "data": {
      "image/png": "[encoded data removed]",
      "text/plain": [
       "<Figure size 432x288 with 1 Axes>"
      ]
     },
     "metadata": {
      "needs_background": "light"
     },
     "output_type": "display_data"
    }
   ],
   "source": [
    "prob = np.zeros(pY.shape[0])\n",
    "for i in range(5):\n",
    "    test_X = pX_rem[shuf[start[i]:end[i]],:]\n",
    "    test_Y = pY[shuf[start[i]:end[i]]]\n",
    "    train_ind = np.setdiff1d(np.arange(pX.shape[0]),shuf[start[i]:end[i]])\n",
    "    train_X = pX_rem[train_ind,:]\n",
    "    train_Y = pY[train_ind]\n",
    "    \n",
    "    model = LogisticRegression(solver='liblinear', penalty='l1')\n",
    "    model.fit(train_X, train_Y)\n",
    "    \n",
    "    proba_res = model.predict_proba(test_X)\n",
    "    prob[shuf[start[i]:end[i]]] = proba_res[:,1] - proba_res[:,0]\n",
    "\n",
    "fpr2, tpr2, thresholds = roc_curve(pY, prob, pos_label = 1)\n",
    "plt.plot(fpr2, tpr2)\n",
    "plt.xlabel('FPR')\n",
    "plt.ylabel('TPR')\n",
    "plt.title('ROC Curve of Logistic Regression(Significant Variable Included)')"
   ]
  },
  {
   "cell_type": "markdown",
   "metadata": {},
   "source": [
    "### L2-Penalized Logistic Regression"
   ]
  },
  {
   "cell_type": "code",
   "execution_count": 37,
   "metadata": {},
   "outputs": [
    {
     "data": {
      "text/plain": [
       "Text(0.5, 1.0, 'ROC Curve of Logistic Regression(Significant Variable Included)')"
      ]
     },
     "execution_count": 37,
     "metadata": {},
     "output_type": "execute_result"
    },
    {
     "data": {
      "image/png": "[encoded data removed]",
      "text/plain": [
       "<Figure size 432x288 with 1 Axes>"
      ]
     },
     "metadata": {
      "needs_background": "light"
     },
     "output_type": "display_data"
    }
   ],
   "source": [
    "prob = np.zeros(pY.shape[0])\n",
    "for i in range(5):\n",
    "    test_X = pX_rem[shuf[start[i]:end[i]],:]\n",
    "    test_Y = pY[shuf[start[i]:end[i]]]\n",
    "    train_ind = np.setdiff1d(np.arange(pX.shape[0]),shuf[start[i]:end[i]])\n",
    "    train_X = pX_rem[train_ind,:]\n",
    "    train_Y = pY[train_ind]\n",
    "    \n",
    "    model = LogisticRegression(solver='liblinear', penalty='l2')\n",
    "    model.fit(train_X, train_Y)\n",
    "    \n",
    "    proba_res = model.predict_proba(test_X)\n",
    "    prob[shuf[start[i]:end[i]]] = proba_res[:,1] - proba_res[:,0]\n",
    "\n",
    "fpr3, tpr3, thresholds = roc_curve(pY, prob, pos_label = 1)\n",
    "plt.plot(fpr3, tpr3)\n",
    "plt.xlabel('FPR')\n",
    "plt.ylabel('TPR')\n",
    "plt.title('ROC Curve of Logistic Regression(Significant Variable Included)')"
   ]
  },
  {
   "cell_type": "markdown",
   "metadata": {},
   "source": [
    "### Neural Network"
   ]
  },
  {
   "cell_type": "code",
   "execution_count": 31,
   "metadata": {},
   "outputs": [
    {
     "name": "stdout",
     "output_type": "stream",
     "text": [
      "3/3 [==============================] - 0s 997us/step - loss: 0.7084\n",
      "3/3 [==============================] - 0s 1ms/step - loss: 0.6331\n",
      "3/3 [==============================] - 0s 499us/step - loss: 0.7987\n",
      "3/3 [==============================] - 0s 997us/step - loss: 0.6425\n",
      "3/3 [==============================] - 0s 997us/step - loss: 0.6234\n"
     ]
    },
    {
     "data": {
      "text/plain": [
       "[<matplotlib.lines.Line2D at 0x19a92a7f908>]"
      ]
     },
     "execution_count": 31,
     "metadata": {},
     "output_type": "execute_result"
    },
    {
     "data": {
      "image/png": "[encoded data removed]",
      "text/plain": [
       "<Figure size 432x288 with 1 Axes>"
      ]
     },
     "metadata": {
      "needs_background": "light"
     },
     "output_type": "display_data"
    }
   ],
   "source": [
    "prob = np.zeros(pY.shape[0])\n",
    "for i in range(5):\n",
    "    test_X = pX_rem[shuf[start[i]:end[i]],:]\n",
    "    test_Y = pY[shuf[start[i]:end[i]]]\n",
    "    train_ind = np.setdiff1d(np.arange(pX.shape[0]),shuf[start[i]:end[i]])\n",
    "    train_X = pX_rem[train_ind,:]\n",
    "    train_Y = pY[train_ind]\n",
    "    \n",
    "    inputs_2 = keras.Input(shape=(n_feature))\n",
    "    act_2 = 'tanh'\n",
    "    x_2 = layers.Dense(units=100, activation=act_2)(inputs_2)\n",
    "    #x_2 = layers.Dense(units=10, activation=act_2)(x_2)\n",
    "    x_2 = layers.Dense(units=50, activation=act_2)(x_2)\n",
    "    x_2 = layers.Dense(units=20, activation=act_2)(x_2)\n",
    "    x_2 = layers.Dense(units=10, activation=act_2)(x_2)\n",
    "    outputs_2 = layers.Dense(units=1, activation=\"sigmoid\")(x_2)\n",
    "    model = keras.Model(inputs=inputs_2, outputs=outputs_2)\n",
    "    model.compile(optimizer=\"adamax\", loss=\"binary_crossentropy\")\n",
    "    model.fit(train_X, train_Y, epochs=1)\n",
    "    prob[shuf[start[i]:end[i]]] = model.predict(test_X).flatten()\n",
    "\n",
    "fpr4, tpr4, thresholds = roc_curve(pY, prob, pos_label = 1)\n",
    "plt.plot(fpr4, tpr4)"
   ]
  },
  {
   "cell_type": "markdown",
   "metadata": {},
   "source": [
    "### Graphical LASSO & QDA"
   ]
  },
  {
   "cell_type": "code",
   "execution_count": 38,
   "metadata": {},
   "outputs": [],
   "source": [
    "indices = np.array([i for i in range(102)])\n",
    "pos_ind = indices[pY==1]\n",
    "neg_ind = indices[pY==0]\n",
    "\n",
    "pos_X = pX_rem[pos_ind,:]\n",
    "neg_X = pX_rem[neg_ind,:]"
   ]
  },
  {
   "cell_type": "code",
   "execution_count": 39,
   "metadata": {},
   "outputs": [],
   "source": [
    "pos_means = pos_X.mean(axis=0)\n",
    "neg_means = neg_X.mean(axis=0)\n",
    "pos_X -= pos_means\n",
    "neg_X -= neg_means"
   ]
  },
  {
   "cell_type": "code",
   "execution_count": 43,
   "metadata": {},
   "outputs": [
    {
     "name": "stderr",
     "output_type": "stream",
     "text": [
      "D:\\Anaconda\\envs\\learn\\lib\\site-packages\\numpy\\core\\_methods.py:202: RuntimeWarning: invalid value encountered in subtract\n",
      "  x = asanyarray(arr - arrmean)\n"
     ]
    },
    {
     "data": {
      "text/plain": [
       "GraphicalLassoCV(n_jobs=-1)"
      ]
     },
     "execution_count": 43,
     "metadata": {},
     "output_type": "execute_result"
    }
   ],
   "source": [
    "model1=GraphicalLassoCV(n_jobs=-1)\n",
    "model1.fit(pos_X)"
   ]
  },
  {
   "cell_type": "code",
   "execution_count": 44,
   "metadata": {},
   "outputs": [
    {
     "name": "stderr",
     "output_type": "stream",
     "text": [
      "D:\\Anaconda\\envs\\learn\\lib\\site-packages\\numpy\\core\\_methods.py:202: RuntimeWarning: invalid value encountered in subtract\n",
      "  x = asanyarray(arr - arrmean)\n"
     ]
    },
    {
     "data": {
      "text/plain": [
       "GraphicalLassoCV(n_jobs=-1)"
      ]
     },
     "execution_count": 44,
     "metadata": {},
     "output_type": "execute_result"
    }
   ],
   "source": [
    "model2=GraphicalLassoCV(n_jobs=-1)\n",
    "model2.fit(neg_X)"
   ]
  },
  {
   "cell_type": "code",
   "execution_count": 45,
   "metadata": {},
   "outputs": [],
   "source": [
    "K1 = model1.precision_\n",
    "K2 = model2.precision_"
   ]
  },
  {
   "cell_type": "code",
   "execution_count": 48,
   "metadata": {},
   "outputs": [],
   "source": [
    "def crit(x):\n",
    "    return (x-pos_means)@K1@(x-pos_means).T-np.log(la.det(K1))-(x-neg_means)@K2@(x-neg_means).T+np.log(la.det(K2))\n",
    "crit_result=np.apply_along_axis(crit,1, pX_rem)"
   ]
  },
  {
   "cell_type": "code",
   "execution_count": 49,
   "metadata": {},
   "outputs": [
    {
     "data": {
      "text/plain": [
       "Text(0.5, 1.0, 'ROC Curve of Logistic Regression(Significant Variable Included)')"
      ]
     },
     "execution_count": 49,
     "metadata": {},
     "output_type": "execute_result"
    },
    {
     "data": {
      "image/png": "[encoded data removed]",
      "text/plain": [
       "<Figure size 432x288 with 1 Axes>"
      ]
     },
     "metadata": {
      "needs_background": "light"
     },
     "output_type": "display_data"
    }
   ],
   "source": [
    "fpr5, tpr5, thresholds = roc_curve(pY, -crit_result, pos_label = 1)\n",
    "plt.plot(fpr5, tpr5)\n",
    "plt.xlabel('FPR')\n",
    "plt.ylabel('TPR')\n",
    "plt.title('ROC Curve of Logistic Regression(Significant Variable Included)')"
   ]
  },
  {
   "cell_type": "markdown",
   "metadata": {},
   "source": [
    "### ROC Curves for Model Creation"
   ]
  },
  {
   "cell_type": "code",
   "execution_count": 51,
   "metadata": {},
   "outputs": [
    {
     "data": {
      "image/png": "[encoded data removed]",
      "text/plain": [
       "<Figure size 432x288 with 1 Axes>"
      ]
     },
     "metadata": {
      "needs_background": "light"
     },
     "output_type": "display_data"
    }
   ],
   "source": [
    "plt.plot(fpr1, tpr1, label='Logistic Regression')\n",
    "plt.plot(fpr2, tpr2, label='L1-Logistic Regression')\n",
    "plt.plot(fpr3, tpr3, label='L2-Logistic Regression')\n",
    "plt.plot(fpr4, tpr4, label='Sequential Neural Network')\n",
    "plt.plot(fpr5, tpr5, label='Graphical Lasso-QDA')\n",
    "plt.legend()\n",
    "plt.title('ROC Curves of Different Types of Models')\n",
    "plt.show()"
   ]
  }
 ],
 "metadata": {
  "kernelspec": {
   "display_name": "Python [conda env:learn] *",
   "language": "python",
   "name": "conda-env-learn-py"
  },
  "language_info": {
   "codemirror_mode": {
    "name": "ipython",
    "version": 3
   },
   "file_extension": ".py",
   "mimetype": "text/x-python",
   "name": "python",
   "nbconvert_exporter": "python",
   "pygments_lexer": "ipython3",
   "version": "3.7.9"
  }
 },
 "nbformat": 4,
 "nbformat_minor": 4
}
