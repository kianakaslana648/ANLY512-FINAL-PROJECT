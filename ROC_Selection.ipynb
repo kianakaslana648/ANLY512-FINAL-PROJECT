{
 "cells": [
  {
   "cell_type": "code",
   "execution_count": 135,
   "metadata": {},
   "outputs": [],
   "source": [
    "import numpy as np\n",
    "import numpy.random as rd\n",
    "import pandas as pd\n",
    "import plotly.graph_objects as go\n",
    "import matplotlib.pyplot as plt\n",
    "from itertools import combinations, chain\n",
    "from sklearn.decomposition import PCA\n",
    "from sklearn.decomposition import IncrementalPCA\n",
    "from sklearn.linear_model import LogisticRegression\n",
    "from sklearn.metrics import roc_curve\n",
    "from sklearn.feature_selection import SequentialFeatureSelector as sfs\n",
    "from sklearn.linear_model import lasso_path"
   ]
  },
  {
   "cell_type": "code",
   "execution_count": 29,
   "metadata": {},
   "outputs": [],
   "source": []
  },
  {
   "cell_type": "code",
   "execution_count": 2,
   "metadata": {},
   "outputs": [],
   "source": [
    "pX = pd.read_csv('prostate/prostate.csv')\n",
    "pY = pX.iloc[:,-1]\n",
    "pX = np.array(pX.iloc[:,1:6034])"
   ]
  },
  {
   "cell_type": "code",
   "execution_count": 3,
   "metadata": {},
   "outputs": [],
   "source": [
    "shuf = np.arange(pX.shape[0])\n",
    "rd.shuffle(shuf)"
   ]
  },
  {
   "cell_type": "code",
   "execution_count": 4,
   "metadata": {},
   "outputs": [],
   "source": [
    "start = [0, 20, 40, 60, 80]\n",
    "end = [20, 40, 60, 80, 102]"
   ]
  },
  {
   "cell_type": "markdown",
   "metadata": {},
   "source": [
    "### PCA"
   ]
  },
  {
   "cell_type": "code",
   "execution_count": 5,
   "metadata": {},
   "outputs": [
    {
     "name": "stderr",
     "output_type": "stream",
     "text": [
      "C:\\Users\\cml\\AppData\\Roaming\\Python\\Python37\\site-packages\\sklearn\\decomposition\\_incremental_pca.py:348: RuntimeWarning: Mean of empty slice.\n",
      "  self.noise_variance_ = explained_variance[self.n_components_ :].mean()\n",
      "D:\\Anaconda\\envs\\learn\\lib\\site-packages\\numpy\\core\\_methods.py:170: RuntimeWarning: invalid value encountered in double_scalars\n",
      "  ret = ret.dtype.type(ret / rcount)\n",
      "C:\\Users\\cml\\AppData\\Roaming\\Python\\Python37\\site-packages\\sklearn\\decomposition\\_incremental_pca.py:348: RuntimeWarning: Mean of empty slice.\n",
      "  self.noise_variance_ = explained_variance[self.n_components_ :].mean()\n",
      "D:\\Anaconda\\envs\\learn\\lib\\site-packages\\numpy\\core\\_methods.py:170: RuntimeWarning: invalid value encountered in double_scalars\n",
      "  ret = ret.dtype.type(ret / rcount)\n",
      "C:\\Users\\cml\\AppData\\Roaming\\Python\\Python37\\site-packages\\sklearn\\decomposition\\_incremental_pca.py:348: RuntimeWarning: Mean of empty slice.\n",
      "  self.noise_variance_ = explained_variance[self.n_components_ :].mean()\n",
      "D:\\Anaconda\\envs\\learn\\lib\\site-packages\\numpy\\core\\_methods.py:170: RuntimeWarning: invalid value encountered in double_scalars\n",
      "  ret = ret.dtype.type(ret / rcount)\n",
      "C:\\Users\\cml\\AppData\\Roaming\\Python\\Python37\\site-packages\\sklearn\\decomposition\\_incremental_pca.py:348: RuntimeWarning: Mean of empty slice.\n",
      "  self.noise_variance_ = explained_variance[self.n_components_ :].mean()\n",
      "D:\\Anaconda\\envs\\learn\\lib\\site-packages\\numpy\\core\\_methods.py:170: RuntimeWarning: invalid value encountered in double_scalars\n",
      "  ret = ret.dtype.type(ret / rcount)\n"
     ]
    }
   ],
   "source": [
    "prob = np.zeros(pY.shape[0])\n",
    "for i in range(5):\n",
    "    test_X = pX[shuf[start[i]:end[i]],:]\n",
    "    test_Y = pY[shuf[start[i]:end[i]]]\n",
    "    train_ind = np.setdiff1d(np.arange(pX.shape[0]),shuf[start[i]:end[i]])\n",
    "    train_X = pX[train_ind,:]\n",
    "    train_Y = pY[train_ind]\n",
    "\n",
    "    pca = IncrementalPCA(n_components=20)\n",
    "    inter_train_X = pca.fit_transform(train_X)\n",
    "    model = LogisticRegression(solver='liblinear')\n",
    "    model.fit(inter_train_X, train_Y)\n",
    "\n",
    "    inter_test_X = pca.fit_transform(test_X)\n",
    "    proba_res = model.predict_proba(inter_test_X)\n",
    "    prob[shuf[start[i]:end[i]]] = proba_res[:,1] - proba_res[:,0]\n",
    "    \n",
    "fpr_1, tpr_1, thresholds = roc_curve(pY, prob, pos_label = 1)"
   ]
  },
  {
   "cell_type": "markdown",
   "metadata": {},
   "source": [
    "### Forward"
   ]
  },
  {
   "cell_type": "code",
   "execution_count": 40,
   "metadata": {},
   "outputs": [],
   "source": [
    "lreg = LogisticRegression()\n",
    "sfs1 = sfs(lreg,n_features_to_select=20, direction='forward', n_jobs=-1)\n",
    "model = sfs1.fit(np.array(pX), np.array(pY))"
   ]
  },
  {
   "cell_type": "code",
   "execution_count": 42,
   "metadata": {},
   "outputs": [],
   "source": [
    "res_ind = model.support_\n",
    "pX_re = pX[:,res_ind]"
   ]
  },
  {
   "cell_type": "code",
   "execution_count": null,
   "metadata": {},
   "outputs": [],
   "source": []
  },
  {
   "cell_type": "code",
   "execution_count": null,
   "metadata": {},
   "outputs": [],
   "source": []
  },
  {
   "cell_type": "code",
   "execution_count": 44,
   "metadata": {},
   "outputs": [],
   "source": [
    "prob = np.zeros(pY.shape[0])\n",
    "for i in range(5):\n",
    "    test_X = pX_re[shuf[start[i]:end[i]],:]\n",
    "    test_Y = pY[shuf[start[i]:end[i]]]\n",
    "    train_ind = np.setdiff1d(np.arange(pX.shape[0]),shuf[start[i]:end[i]])\n",
    "    train_X = pX_re[train_ind,:]\n",
    "    train_Y = pY[train_ind]\n",
    "\n",
    "    model = LogisticRegression()\n",
    "    model = model.fit(train_X, train_Y)\n",
    "\n",
    "    proba_res = model.predict_proba(test_X)\n",
    "    prob[shuf[start[i]:end[i]]] = proba_res[:,1] - proba_res[:,0]\n",
    "    \n",
    "\n",
    "fpr_2, tpr_2, thresholds = roc_curve(pY, prob, pos_label = 1)"
   ]
  },
  {
   "cell_type": "markdown",
   "metadata": {},
   "source": [
    "### LASSO Path"
   ]
  },
  {
   "cell_type": "code",
   "execution_count": 49,
   "metadata": {},
   "outputs": [],
   "source": [
    "_, coef_path, _=lasso_path(pX,pY)"
   ]
  },
  {
   "cell_type": "code",
   "execution_count": 60,
   "metadata": {},
   "outputs": [
    {
     "data": {
      "text/plain": [
       "array([-0., -0., -0., ..., -0., -0., -0.])"
      ]
     },
     "execution_count": 60,
     "metadata": {},
     "output_type": "execute_result"
    }
   ],
   "source": [
    "coef_path[:,1]"
   ]
  },
  {
   "cell_type": "code",
   "execution_count": 62,
   "metadata": {},
   "outputs": [],
   "source": [
    "i = 0\n",
    "while i < coef_path.shape[1]:\n",
    "    if np.sum(coef_path[:,i]!=0) == 20:\n",
    "        break\n",
    "    i=i+1"
   ]
  },
  {
   "cell_type": "code",
   "execution_count": 65,
   "metadata": {},
   "outputs": [],
   "source": [
    "ind_remain = coef_path[:,i]!=0"
   ]
  },
  {
   "cell_type": "code",
   "execution_count": 66,
   "metadata": {},
   "outputs": [],
   "source": [
    "pX_remain = pX[:,ind_remain]"
   ]
  },
  {
   "cell_type": "code",
   "execution_count": 67,
   "metadata": {},
   "outputs": [],
   "source": [
    "prob = np.zeros(pY.shape[0])\n",
    "for i in range(5):\n",
    "    test_X = pX_remain[shuf[start[i]:end[i]],:]\n",
    "    test_Y = pY[shuf[start[i]:end[i]]]\n",
    "    train_ind = np.setdiff1d(np.arange(pX.shape[0]),shuf[start[i]:end[i]])\n",
    "    train_X = pX_remain[train_ind,:]\n",
    "    train_Y = pY[train_ind]\n",
    "    \n",
    "    model = LogisticRegression(solver='liblinear')\n",
    "    model.fit(train_X, train_Y)\n",
    "    \n",
    "    proba_res = model.predict_proba(test_X)\n",
    "    prob[shuf[start[i]:end[i]]] = proba_res[:,1] - proba_res[:,0]\n",
    "\n",
    "fpr3, tpr3, thresholds = roc_curve(pY, prob, pos_label = 1)\n"
   ]
  },
  {
   "cell_type": "code",
   "execution_count": null,
   "metadata": {},
   "outputs": [],
   "source": []
  },
  {
   "cell_type": "markdown",
   "metadata": {},
   "source": [
    "### Chatterjee Correlation"
   ]
  },
  {
   "cell_type": "code",
   "execution_count": 6,
   "metadata": {},
   "outputs": [],
   "source": [
    "def chatterjee(x,y):\n",
    "    n=len(x)\n",
    "    df=pd.DataFrame({'X':x,'Y':y})\n",
    "    df['rank_x']=df['X'].rank()\n",
    "    df['rank_y']=df['Y'].rank()\n",
    "    df=df.sort_values(by='rank_x')\n",
    "    sum_term1=df['rank_y'].diff().abs().sum()\n",
    "    sum_term2=((df['rank_y']-1)*(n+1-df['rank_y'])).sum()\n",
    "    #return 1-(n*sum_term1)/(2*sum_term2)\n",
    "    return (1-3*sum_term1/(pow(n,2)-1))"
   ]
  },
  {
   "cell_type": "code",
   "execution_count": 7,
   "metadata": {},
   "outputs": [],
   "source": [
    "cor=np.zeros(6033)\n",
    "for i in range(6033):\n",
    "    temp_x=pX[:,i]\n",
    "    cor[i]=chatterjee(temp_x,pY)\n",
    "index = np.argsort(-cor)"
   ]
  },
  {
   "cell_type": "code",
   "execution_count": 8,
   "metadata": {},
   "outputs": [],
   "source": [
    "n_feature = 20\n",
    "pX_rem = pX[:,index[0:n_feature]]"
   ]
  },
  {
   "cell_type": "code",
   "execution_count": 11,
   "metadata": {},
   "outputs": [
    {
     "data": {
      "text/plain": [
       "Text(0.5, 1.0, 'ROC Curve of Logistic Regression(Significant Variable Included)')"
      ]
     },
     "execution_count": 11,
     "metadata": {},
     "output_type": "execute_result"
    },
    {
     "data": {
      "image/png": "[encoded data removed]",
      "text/plain": [
       "<Figure size 432x288 with 1 Axes>"
      ]
     },
     "metadata": {
      "needs_background": "light"
     },
     "output_type": "display_data"
    }
   ],
   "source": [
    "prob = np.zeros(pY.shape[0])\n",
    "for i in range(5):\n",
    "    test_X = pX_rem[shuf[start[i]:end[i]],:]\n",
    "    test_Y = pY[shuf[start[i]:end[i]]]\n",
    "    train_ind = np.setdiff1d(np.arange(pX.shape[0]),shuf[start[i]:end[i]])\n",
    "    train_X = pX_rem[train_ind,:]\n",
    "    train_Y = pY[train_ind]\n",
    "    \n",
    "    model = LogisticRegression(solver='liblinear')\n",
    "    model.fit(train_X, train_Y)\n",
    "    \n",
    "    proba_res = model.predict_proba(test_X)\n",
    "    prob[shuf[start[i]:end[i]]] = proba_res[:,1] - proba_res[:,0]\n",
    "\n",
    "fpr4, tpr4, thresholds = roc_curve(pY, prob, pos_label = 1)\n",
    "plt.plot(fpr4, tpr4)\n",
    "plt.xlabel('FPR')\n",
    "plt.ylabel('TPR')\n",
    "plt.title('ROC Curve of Logistic Regression(Significant Variable Included)')"
   ]
  },
  {
   "cell_type": "markdown",
   "metadata": {},
   "source": [
    "### No Model Selection"
   ]
  },
  {
   "cell_type": "code",
   "execution_count": 99,
   "metadata": {},
   "outputs": [],
   "source": [
    "prob = np.zeros(pY.shape[0])\n",
    "for i in range(5):\n",
    "    test_X = pX[shuf[start[i]:end[i]],:]\n",
    "    test_Y = pY[shuf[start[i]:end[i]]]\n",
    "    train_ind = np.setdiff1d(np.arange(pX.shape[0]),shuf[start[i]:end[i]])\n",
    "    train_X = pX[train_ind,:]\n",
    "    train_Y = pY[train_ind]\n",
    "    \n",
    "    model = LogisticRegression(solver='liblinear')\n",
    "    model.fit(train_X, train_Y)\n",
    "    \n",
    "    proba_res = model.predict_proba(test_X)\n",
    "    prob[shuf[start[i]:end[i]]] = proba_res[:,1] - proba_res[:,0]\n",
    "\n",
    "fpr5, tpr5, thresholds = roc_curve(pY, prob, pos_label = 1)"
   ]
  },
  {
   "cell_type": "markdown",
   "metadata": {},
   "source": [
    "### ROC for Model Selection"
   ]
  },
  {
   "cell_type": "code",
   "execution_count": 104,
   "metadata": {},
   "outputs": [
    {
     "data": {
      "image/png": "[encoded data removed]",
      "text/plain": [
       "<Figure size 432x288 with 1 Axes>"
      ]
     },
     "metadata": {
      "needs_background": "light"
     },
     "output_type": "display_data"
    }
   ],
   "source": [
    "plt.plot(fpr_1, tpr_1, label='PCA-Logistic')\n",
    "plt.plot(fpr_2, tpr_2, label='Forward Selection-Logistic')\n",
    "plt.plot(fpr3, tpr3, label='LASSO Path-Logistic')\n",
    "plt.plot(fpr4, tpr4, label='Chatterjee Correlation-Logistic')\n",
    "plt.plot(fpr5, tpr5, label='No Selection-Logistic')\n",
    "plt.legend()\n",
    "plt.title('ROC Curves of Different Predictor Selecion Methods')\n",
    "plt.show()"
   ]
  },
  {
   "cell_type": "markdown",
   "metadata": {},
   "source": [
    "### Significant Predictors"
   ]
  },
  {
   "cell_type": "code",
   "execution_count": 78,
   "metadata": {},
   "outputs": [],
   "source": [
    "for_imp = np.arange(6033)[res_ind]\n"
   ]
  },
  {
   "cell_type": "code",
   "execution_count": 79,
   "metadata": {},
   "outputs": [],
   "source": [
    "las_imp = np.arange(6033)[ind_remain]"
   ]
  },
  {
   "cell_type": "code",
   "execution_count": 80,
   "metadata": {},
   "outputs": [],
   "source": [
    "cha_imp = index[1:20]"
   ]
  },
  {
   "cell_type": "code",
   "execution_count": 88,
   "metadata": {},
   "outputs": [
    {
     "data": {
      "text/plain": [
       "array([5015], dtype=int64)"
      ]
     },
     "execution_count": 88,
     "metadata": {},
     "output_type": "execute_result"
    }
   ],
   "source": [
    "np.intersect1d(np.intersect1d(for_imp, las_imp),cha_imp)"
   ]
  },
  {
   "cell_type": "code",
   "execution_count": 122,
   "metadata": {},
   "outputs": [
    {
     "data": {
      "text/plain": [
       "Text(0.5, 1.0, 'Chatterjee Correlations With the Response')"
      ]
     },
     "execution_count": 122,
     "metadata": {},
     "output_type": "execute_result"
    },
    {
     "data": {
      "image/png": "[encoded data removed]",
      "text/plain": [
       "<Figure size 864x432 with 1 Axes>"
      ]
     },
     "metadata": {
      "needs_background": "light"
     },
     "output_type": "display_data"
    }
   ],
   "source": [
    "plt.figure(figsize=(12,6))\n",
    "plt.bar((cha_imp+1).astype(str), cor[cha_imp],width=0.6)\n",
    "plt.title('Chatterjee Correlations With the Response')"
   ]
  },
  {
   "cell_type": "code",
   "execution_count": 107,
   "metadata": {},
   "outputs": [
    {
     "data": {
      "text/plain": [
       "{125,\n",
       " 1494,\n",
       " 1838,\n",
       " 2518,\n",
       " 2745,\n",
       " 2851,\n",
       " 3116,\n",
       " 3117,\n",
       " 3365,\n",
       " 4211,\n",
       " 4262,\n",
       " 4334,\n",
       " 4700,\n",
       " 5015,\n",
       " 5133,\n",
       " 5170,\n",
       " 5283,\n",
       " 5685,\n",
       " 5809}"
      ]
     },
     "execution_count": 107,
     "metadata": {},
     "output_type": "execute_result"
    }
   ],
   "source": [
    "set(cha_imp)"
   ]
  },
  {
   "cell_type": "code",
   "execution_count": 89,
   "metadata": {},
   "outputs": [],
   "source": [
    "all_variable = np.union1d(np.union1d(for_imp,las_imp),cha_imp)"
   ]
  },
  {
   "cell_type": "code",
   "execution_count": 93,
   "metadata": {},
   "outputs": [],
   "source": [
    "cha_cor = np.zeros((len(all_variable),len(all_variable)))\n",
    "for i in range(len(all_variable)):\n",
    "    for j in range(len(all_variable)):\n",
    "        cha_cor[i,j] = chatterjee(pX[:,all_variable[i]],pX[:,all_variable[j]]"
   ]
  },
  {
   "cell_type": "code",
   "execution_count": 97,
   "metadata": {},
   "outputs": [],
   "source": [
    "for i in range(len(all_variable)):\n",
    "    cha_cor[i,i] = 0"
   ]
  },
  {
   "cell_type": "code",
   "execution_count": 98,
   "metadata": {},
   "outputs": [
    {
     "data": {
      "text/plain": [
       "<matplotlib.colorbar.Colorbar at 0x1f06ade6f48>"
      ]
     },
     "execution_count": 98,
     "metadata": {},
     "output_type": "execute_result"
    },
    {
     "data": {
      "image/png": "[encoded data removed]",
      "text/plain": [
       "<Figure size 432x288 with 2 Axes>"
      ]
     },
     "metadata": {
      "needs_background": "light"
     },
     "output_type": "display_data"
    }
   ],
   "source": [
    "heatmap = plt.pcolor(cha_cor)\n",
    "plt.colorbar(heatmap)"
   ]
  },
  {
   "cell_type": "code",
   "execution_count": 134,
   "metadata": {},
   "outputs": [],
   "source": [
    "selected = rd.sample(range(6033),500)"
   ]
  },
  {
   "cell_type": "code",
   "execution_count": 128,
   "metadata": {},
   "outputs": [
    {
     "data": {
      "text/plain": [
       "[0, 1, 2]"
      ]
     },
     "execution_count": 128,
     "metadata": {},
     "output_type": "execute_result"
    }
   ],
   "source": [
    "np.arange(3).tolist()"
   ]
  }
 ],
 "metadata": {
  "kernelspec": {
   "display_name": "Python [conda env:learn] *",
   "language": "python",
   "name": "conda-env-learn-py"
  },
  "language_info": {
   "codemirror_mode": {
    "name": "ipython",
    "version": 3
   },
   "file_extension": ".py",
   "mimetype": "text/x-python",
   "name": "python",
   "nbconvert_exporter": "python",
   "pygments_lexer": "ipython3",
   "version": "3.7.9"
  }
 },
 "nbformat": 4,
 "nbformat_minor": 4
}
